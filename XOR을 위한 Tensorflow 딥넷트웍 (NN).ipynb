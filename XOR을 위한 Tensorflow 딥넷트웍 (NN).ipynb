{
 "cells": [
  {
   "cell_type": "code",
   "execution_count": 3,
   "metadata": {},
   "outputs": [
    {
     "name": "stdout",
     "output_type": "stream",
     "text": [
      "0 0.89662564 [array([[ 1.8314604 , -0.07629389],\n",
      "       [ 0.16421738, -1.3907292 ]], dtype=float32), array([[0.7321418 ],\n",
      "       [0.83163905]], dtype=float32)]\n",
      "1000 0.6918779 [array([[ 1.8516167 ,  0.0974896 ],\n",
      "       [ 0.45982885, -1.3898518 ]], dtype=float32), array([[0.29570252],\n",
      "       [0.28355882]], dtype=float32)]\n",
      "2000 0.66526514 [array([[ 2.2331002 ,  0.16961707],\n",
      "       [ 1.5342803 , -1.4401602 ]], dtype=float32), array([[1.025725  ],\n",
      "       [0.17427929]], dtype=float32)]\n",
      "3000 0.56992984 [array([[ 3.4042308 ,  0.15856406],\n",
      "       [ 3.302033  , -1.6519301 ]], dtype=float32), array([[2.5952837],\n",
      "       [0.5180642]], dtype=float32)]\n",
      "4000 0.4848051 [array([[ 4.4829125,  0.1798648],\n",
      "       [ 4.683556 , -2.397485 ]], dtype=float32), array([[3.7856019],\n",
      "       [1.6480163]], dtype=float32)]\n",
      "5000 0.43142033 [array([[ 5.118176  ,  0.29854622],\n",
      "       [ 5.675153  , -3.289702  ]], dtype=float32), array([[4.688026],\n",
      "       [2.67507 ]], dtype=float32)]\n",
      "6000 0.40269503 [array([[ 5.5025473 ,  0.52469754],\n",
      "       [ 6.3997936 , -4.046178  ]], dtype=float32), array([[5.3871994],\n",
      "       [3.3622112]], dtype=float32)]\n",
      "7000 0.38539764 [array([[ 5.745962 ,  0.8578504],\n",
      "       [ 6.9265532, -4.709738 ]], dtype=float32), array([[5.8733363],\n",
      "       [3.8931832]], dtype=float32)]\n",
      "8000 0.37440374 [array([[ 5.904146,  1.199034],\n",
      "       [ 7.318578, -5.268476]], dtype=float32), array([[6.2032585],\n",
      "       [4.3351493]], dtype=float32)]\n",
      "9000 0.36742473 [array([[ 6.011488 ,  1.4939032],\n",
      "       [ 7.621665 , -5.7235565]], dtype=float32), array([[6.4370503],\n",
      "       [4.7017612]], dtype=float32)]\n",
      "10000 0.3628882 [array([[ 6.088375 ,  1.7366396],\n",
      "       [ 7.865132 , -6.0950513]], dtype=float32), array([[6.6127844],\n",
      "       [5.005532 ]], dtype=float32)]\n",
      "\n",
      "Hypothesis:  [[0.01636586]\n",
      " [0.5025214 ]\n",
      " [0.97398055]\n",
      " [0.5135253 ]] \n",
      "Correct:  [[0.]\n",
      " [1.]\n",
      " [1.]\n",
      " [1.]] \n",
      "Accuracy:  0.75\n"
     ]
    }
   ],
   "source": [
    "import tensorflow as tf\n",
    "import numpy as np\n",
    "\n",
    "x_data = np.array([[0,0], [0,1], [1,0], [1,1]], dtype=np.float32)\n",
    "y_data = np.array([[0], [1], [1], [0]], dtype=np.float32)\n",
    "X = tf.placeholder(tf.float32)\n",
    "Y = tf.placeholder(tf.float32)\n",
    "\n",
    "W1 = tf.Variable(tf.random_normal([2,2]), name='weight1')\n",
    "b1 = tf.Variable(tf.random_normal([2]), name='bias1')\n",
    "layer1 = tf.sigmoid(tf.matmul(X, W1) + b1)\n",
    "\n",
    "W2 = tf.Variable(tf.random_normal([2,1]), name='weight2')\n",
    "b2 = tf.Variable(tf.random_normal([1]), name='bias2')\n",
    "hypothesis = tf.sigmoid(tf.matmul(layer1, W2) + b2)\n",
    "\n",
    "cost = -tf.reduce_mean(Y * tf.log(hypothesis) + (1 - Y) * tf.log(1 - hypothesis))\n",
    "train = tf.train.GradientDescentOptimizer(learning_rate=0.1).minimize(cost)\n",
    "\n",
    "predicted = tf.cast(hypothesis > 0.5, dtype=tf.float32)\n",
    "accuracy = tf.reduce_mean(tf.cast(tf.equal(predicted, Y), dtype=tf.float32))\n",
    "\n",
    "with tf.Session() as sess:\n",
    "    sess.run(tf.global_variables_initializer())\n",
    "    \n",
    "    for step in range(10001):\n",
    "        sess.run(train, feed_dict={X: x_data, Y: y_data})\n",
    "        if step % 1000 == 0:\n",
    "            print(step, sess.run(cost, feed_dict={X: x_data, Y: y_data}), sess.run([W1, W2]))\n",
    "            \n",
    "    h, c, a = sess.run([hypothesis, predicted, accuracy],\n",
    "                      feed_dict = {X: x_data, Y: y_data})\n",
    "    print(\"\\nHypothesis: \", h, \"\\nCorrect: \", c, \"\\nAccuracy: \", a)"
   ]
  },
  {
   "cell_type": "code",
   "execution_count": null,
   "metadata": {},
   "outputs": [],
   "source": []
  }
 ],
 "metadata": {
  "kernelspec": {
   "display_name": "Python 3",
   "language": "python",
   "name": "python3"
  },
  "language_info": {
   "codemirror_mode": {
    "name": "ipython",
    "version": 3
   },
   "file_extension": ".py",
   "mimetype": "text/x-python",
   "name": "python",
   "nbconvert_exporter": "python",
   "pygments_lexer": "ipython3",
   "version": "3.7.4"
  }
 },
 "nbformat": 4,
 "nbformat_minor": 4
}
