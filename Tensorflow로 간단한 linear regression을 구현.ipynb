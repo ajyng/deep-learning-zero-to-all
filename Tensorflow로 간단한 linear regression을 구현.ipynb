{
 "cells": [
  {
   "cell_type": "code",
   "execution_count": 1,
   "metadata": {},
   "outputs": [
    {
     "name": "stdout",
     "output_type": "stream",
     "text": [
      "0 34.73299 [0.5454857] [-2.055653]\n",
      "20 1.2678427 [1.7227824] [-1.5311393]\n",
      "40 1.1066233 [1.68063] [-1.3573881]\n",
      "60 0.96642226 [1.6360784] [-1.1964453]\n",
      "80 0.84398365 [1.5944211] [-1.0460492]\n",
      "100 0.7370573 [1.555492] [-0.90550286]\n",
      "120 0.6436776 [1.5191125] [-0.77416086]\n",
      "140 0.5621284 [1.4851154] [-0.6514205]\n",
      "160 0.49091083 [1.4533448] [-0.5367184]\n",
      "180 0.42871618 [1.4236549] [-0.42952836]\n",
      "200 0.37440097 [1.3959093] [-0.3293584]\n"
     ]
    }
   ],
   "source": [
    "import tensorflow as tf\n",
    "\n",
    "W = tf.Variable(tf.random_normal([1]), name='weight')\n",
    "b = tf.Variable(tf.random_normal([1]), name='bias')\n",
    "X = tf.placeholder(tf.float32, shape=[None])\n",
    "Y = tf.placeholder(tf.float32, shape=[None])\n",
    "\n",
    "hypothesis = X * W + b\n",
    "cost = tf.reduce_mean(tf.square(hypothesis - Y))\n",
    "\n",
    "optimizer = tf.train.GradientDescentOptimizer(learning_rate=0.01)\n",
    "train = optimizer.minimize(cost)\n",
    "\n",
    "sess = tf.Session()\n",
    "sess.run(tf.global_variables_initializer())\n",
    "\n",
    "for step in range(201):\n",
    "    cost_val, W_val, b_val, _ = sess.run([cost, W, b, train],\n",
    "                                        feed_dict={X:[1, 2, 3, 4, 5],\n",
    "                                                  Y:[2.1, 3.1, 4.1, 5.1, 6.1]})\n",
    "    if step % 20 ==0:\n",
    "        print(step, cost_val, W_val, b_val)"
   ]
  },
  {
   "cell_type": "code",
   "execution_count": 2,
   "metadata": {},
   "outputs": [
    {
     "name": "stdout",
     "output_type": "stream",
     "text": [
      "[6.650188]\n"
     ]
    }
   ],
   "source": [
    "print(sess.run(hypothesis, feed_dict={X: [5]}))"
   ]
  },
  {
   "cell_type": "code",
   "execution_count": null,
   "metadata": {},
   "outputs": [],
   "source": []
  }
 ],
 "metadata": {
  "kernelspec": {
   "display_name": "Python 3",
   "language": "python",
   "name": "python3"
  },
  "language_info": {
   "codemirror_mode": {
    "name": "ipython",
    "version": 3
   },
   "file_extension": ".py",
   "mimetype": "text/x-python",
   "name": "python",
   "nbconvert_exporter": "python",
   "pygments_lexer": "ipython3",
   "version": "3.7.4"
  }
 },
 "nbformat": 4,
 "nbformat_minor": 4
}
