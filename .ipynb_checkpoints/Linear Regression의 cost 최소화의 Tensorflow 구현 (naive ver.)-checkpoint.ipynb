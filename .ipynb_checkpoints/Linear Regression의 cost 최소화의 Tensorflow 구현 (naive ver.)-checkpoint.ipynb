{
 "cells": [
  {
   "cell_type": "code",
   "execution_count": 2,
   "metadata": {},
   "outputs": [
    {
     "name": "stdout",
     "output_type": "stream",
     "text": [
      "0 0.0017015197 [1.0190948]\n",
      "1 0.00048399382 [1.0101839]\n",
      "2 0.00013766786 [1.0054314]\n",
      "3 3.9159717e-05 [1.0028968]\n",
      "4 1.11387635e-05 [1.001545]\n",
      "5 3.1683594e-06 [1.000824]\n",
      "6 9.010266e-07 [1.0004394]\n",
      "7 2.5632679e-07 [1.0002344]\n",
      "8 7.300547e-08 [1.000125]\n",
      "9 2.070702e-08 [1.0000666]\n",
      "10 5.8892433e-09 [1.0000355]\n",
      "11 1.6720539e-09 [1.000019]\n",
      "12 4.8156323e-10 [1.0000101]\n",
      "13 1.3557629e-10 [1.0000054]\n",
      "14 3.8198777e-11 [1.0000029]\n",
      "15 1.1581847e-11 [1.0000015]\n",
      "16 3.0553338e-12 [1.0000008]\n",
      "17 1.0610771e-12 [1.0000005]\n",
      "18 2.6526928e-13 [1.0000002]\n",
      "19 9.947598e-14 [1.0000001]\n",
      "20 0.0 [1.]\n"
     ]
    }
   ],
   "source": [
    "import tensorflow as tf\n",
    "\n",
    "x_data = [1,2,3]\n",
    "y_data = [1,2,3]\n",
    "\n",
    "W = tf.Variable(tf.random_normal([1]), name='weight')\n",
    "X = tf.placeholder(tf.float32)\n",
    "Y = tf.placeholder(tf.float32)\n",
    "\n",
    "hypothesis = W * X\n",
    "\n",
    "cost = tf.reduce_mean(tf.square(hypothesis - Y))\n",
    "\n",
    "learning_rate = 0.1\n",
    "gradient = tf.reduce_mean((W * X - Y) * X)\n",
    "descent = W - learning_rate * gradient\n",
    "update = W.assign(descent)\n",
    "\n",
    "sess = tf.Session()\n",
    "sess.run(tf.global_variables_initializer())\n",
    "\n",
    "for step in range(21):\n",
    "    sess.run(update, feed_dict={X: x_data, Y: y_data})\n",
    "    print(step, sess.run(cost, feed_dict={X: x_data, Y: y_data}), sess.run(W))"
   ]
  },
  {
   "cell_type": "code",
   "execution_count": null,
   "metadata": {},
   "outputs": [],
   "source": []
  }
 ],
 "metadata": {
  "kernelspec": {
   "display_name": "Python 3",
   "language": "python",
   "name": "python3"
  },
  "language_info": {
   "codemirror_mode": {
    "name": "ipython",
    "version": 3
   },
   "file_extension": ".py",
   "mimetype": "text/x-python",
   "name": "python",
   "nbconvert_exporter": "python",
   "pygments_lexer": "ipython3",
   "version": "3.7.4"
  }
 },
 "nbformat": 4,
 "nbformat_minor": 4
}
